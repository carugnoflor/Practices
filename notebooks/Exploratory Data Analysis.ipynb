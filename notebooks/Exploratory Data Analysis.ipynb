{
 "cells": [
  {
   "cell_type": "markdown",
   "id": "1fc2eb45",
   "metadata": {},
   "source": [
    "# Exploratory Data Analysis\n",
    "\n",
    "This is an exercise for myself to get familiar with the Jupyter environment, pandas, matplotlib and scipy libraries.    \n",
    "The idea is to make a data analysis from a store dataset and determine which product category have the most profit.  \n",
    "In the process I apply stadistic tests and perform data visualization to verify the inicial answer provided by the data.   "
   ]
  },
  {
   "cell_type": "code",
   "execution_count": 3,
   "id": "32f91621",
   "metadata": {},
   "outputs": [
    {
     "data": {
      "text/plain": [
       "{'encoding': 'Windows-1252', 'confidence': 0.73, 'language': ''}"
      ]
     },
     "execution_count": 3,
     "metadata": {},
     "output_type": "execute_result"
    }
   ],
   "source": [
    "import pandas as pd\n",
    "import numpy as np\n",
    "import matplotlib.pyplot as plt\n",
    "from scipy.stats import boxcox \n",
    "import seaborn as sns \n",
    "from scipy import stats\n",
    "\n",
    "import chardet\n",
    "with open(r\".\\assets\\Sample - Superstore.csv\", 'rb') as rawdata:\n",
    "    result = chardet.detect(rawdata.read(100000))\n",
    "result"
   ]
  },
  {
   "cell_type": "code",
   "execution_count": 4,
   "id": "562f566f",
   "metadata": {},
   "outputs": [],
   "source": [
    "df = pd.read_csv(r\"C:\\Users\\Florencia\\Desktop\\Practicas\\Sample - Superstore.csv\", encoding = 'Windows-1252' )"
   ]
  },
  {
   "cell_type": "markdown",
   "id": "e8440c47",
   "metadata": {},
   "source": [
    "### View of dataset"
   ]
  },
  {
   "cell_type": "code",
   "execution_count": 5,
   "id": "54813fb1",
   "metadata": {},
   "outputs": [
    {
     "data": {
      "text/html": [
       "<div>\n",
       "<style scoped>\n",
       "    .dataframe tbody tr th:only-of-type {\n",
       "        vertical-align: middle;\n",
       "    }\n",
       "\n",
       "    .dataframe tbody tr th {\n",
       "        vertical-align: top;\n",
       "    }\n",
       "\n",
       "    .dataframe thead th {\n",
       "        text-align: right;\n",
       "    }\n",
       "</style>\n",
       "<table border=\"1\" class=\"dataframe\">\n",
       "  <thead>\n",
       "    <tr style=\"text-align: right;\">\n",
       "      <th></th>\n",
       "      <th>Row ID</th>\n",
       "      <th>Order ID</th>\n",
       "      <th>Order Date</th>\n",
       "      <th>Ship Date</th>\n",
       "      <th>Ship Mode</th>\n",
       "      <th>Customer ID</th>\n",
       "      <th>Customer Name</th>\n",
       "      <th>Segment</th>\n",
       "      <th>Country</th>\n",
       "      <th>City</th>\n",
       "      <th>...</th>\n",
       "      <th>Postal Code</th>\n",
       "      <th>Region</th>\n",
       "      <th>Product ID</th>\n",
       "      <th>Category</th>\n",
       "      <th>Sub-Category</th>\n",
       "      <th>Product Name</th>\n",
       "      <th>Sales</th>\n",
       "      <th>Quantity</th>\n",
       "      <th>Discount</th>\n",
       "      <th>Profit</th>\n",
       "    </tr>\n",
       "  </thead>\n",
       "  <tbody>\n",
       "    <tr>\n",
       "      <th>0</th>\n",
       "      <td>1</td>\n",
       "      <td>CA-2016-152156</td>\n",
       "      <td>11/8/2016</td>\n",
       "      <td>11/11/2016</td>\n",
       "      <td>Second Class</td>\n",
       "      <td>CG-12520</td>\n",
       "      <td>Claire Gute</td>\n",
       "      <td>Consumer</td>\n",
       "      <td>United States</td>\n",
       "      <td>Henderson</td>\n",
       "      <td>...</td>\n",
       "      <td>42420</td>\n",
       "      <td>South</td>\n",
       "      <td>FUR-BO-10001798</td>\n",
       "      <td>Furniture</td>\n",
       "      <td>Bookcases</td>\n",
       "      <td>Bush Somerset Collection Bookcase</td>\n",
       "      <td>261.9600</td>\n",
       "      <td>2</td>\n",
       "      <td>0.00</td>\n",
       "      <td>41.9136</td>\n",
       "    </tr>\n",
       "    <tr>\n",
       "      <th>1</th>\n",
       "      <td>2</td>\n",
       "      <td>CA-2016-152156</td>\n",
       "      <td>11/8/2016</td>\n",
       "      <td>11/11/2016</td>\n",
       "      <td>Second Class</td>\n",
       "      <td>CG-12520</td>\n",
       "      <td>Claire Gute</td>\n",
       "      <td>Consumer</td>\n",
       "      <td>United States</td>\n",
       "      <td>Henderson</td>\n",
       "      <td>...</td>\n",
       "      <td>42420</td>\n",
       "      <td>South</td>\n",
       "      <td>FUR-CH-10000454</td>\n",
       "      <td>Furniture</td>\n",
       "      <td>Chairs</td>\n",
       "      <td>Hon Deluxe Fabric Upholstered Stacking Chairs,...</td>\n",
       "      <td>731.9400</td>\n",
       "      <td>3</td>\n",
       "      <td>0.00</td>\n",
       "      <td>219.5820</td>\n",
       "    </tr>\n",
       "    <tr>\n",
       "      <th>2</th>\n",
       "      <td>3</td>\n",
       "      <td>CA-2016-138688</td>\n",
       "      <td>6/12/2016</td>\n",
       "      <td>6/16/2016</td>\n",
       "      <td>Second Class</td>\n",
       "      <td>DV-13045</td>\n",
       "      <td>Darrin Van Huff</td>\n",
       "      <td>Corporate</td>\n",
       "      <td>United States</td>\n",
       "      <td>Los Angeles</td>\n",
       "      <td>...</td>\n",
       "      <td>90036</td>\n",
       "      <td>West</td>\n",
       "      <td>OFF-LA-10000240</td>\n",
       "      <td>Office Supplies</td>\n",
       "      <td>Labels</td>\n",
       "      <td>Self-Adhesive Address Labels for Typewriters b...</td>\n",
       "      <td>14.6200</td>\n",
       "      <td>2</td>\n",
       "      <td>0.00</td>\n",
       "      <td>6.8714</td>\n",
       "    </tr>\n",
       "    <tr>\n",
       "      <th>3</th>\n",
       "      <td>4</td>\n",
       "      <td>US-2015-108966</td>\n",
       "      <td>10/11/2015</td>\n",
       "      <td>10/18/2015</td>\n",
       "      <td>Standard Class</td>\n",
       "      <td>SO-20335</td>\n",
       "      <td>Sean O'Donnell</td>\n",
       "      <td>Consumer</td>\n",
       "      <td>United States</td>\n",
       "      <td>Fort Lauderdale</td>\n",
       "      <td>...</td>\n",
       "      <td>33311</td>\n",
       "      <td>South</td>\n",
       "      <td>FUR-TA-10000577</td>\n",
       "      <td>Furniture</td>\n",
       "      <td>Tables</td>\n",
       "      <td>Bretford CR4500 Series Slim Rectangular Table</td>\n",
       "      <td>957.5775</td>\n",
       "      <td>5</td>\n",
       "      <td>0.45</td>\n",
       "      <td>-383.0310</td>\n",
       "    </tr>\n",
       "    <tr>\n",
       "      <th>4</th>\n",
       "      <td>5</td>\n",
       "      <td>US-2015-108966</td>\n",
       "      <td>10/11/2015</td>\n",
       "      <td>10/18/2015</td>\n",
       "      <td>Standard Class</td>\n",
       "      <td>SO-20335</td>\n",
       "      <td>Sean O'Donnell</td>\n",
       "      <td>Consumer</td>\n",
       "      <td>United States</td>\n",
       "      <td>Fort Lauderdale</td>\n",
       "      <td>...</td>\n",
       "      <td>33311</td>\n",
       "      <td>South</td>\n",
       "      <td>OFF-ST-10000760</td>\n",
       "      <td>Office Supplies</td>\n",
       "      <td>Storage</td>\n",
       "      <td>Eldon Fold 'N Roll Cart System</td>\n",
       "      <td>22.3680</td>\n",
       "      <td>2</td>\n",
       "      <td>0.20</td>\n",
       "      <td>2.5164</td>\n",
       "    </tr>\n",
       "  </tbody>\n",
       "</table>\n",
       "<p>5 rows × 21 columns</p>\n",
       "</div>"
      ],
      "text/plain": [
       "   Row ID        Order ID  Order Date   Ship Date       Ship Mode Customer ID  \\\n",
       "0       1  CA-2016-152156   11/8/2016  11/11/2016    Second Class    CG-12520   \n",
       "1       2  CA-2016-152156   11/8/2016  11/11/2016    Second Class    CG-12520   \n",
       "2       3  CA-2016-138688   6/12/2016   6/16/2016    Second Class    DV-13045   \n",
       "3       4  US-2015-108966  10/11/2015  10/18/2015  Standard Class    SO-20335   \n",
       "4       5  US-2015-108966  10/11/2015  10/18/2015  Standard Class    SO-20335   \n",
       "\n",
       "     Customer Name    Segment        Country             City  ...  \\\n",
       "0      Claire Gute   Consumer  United States        Henderson  ...   \n",
       "1      Claire Gute   Consumer  United States        Henderson  ...   \n",
       "2  Darrin Van Huff  Corporate  United States      Los Angeles  ...   \n",
       "3   Sean O'Donnell   Consumer  United States  Fort Lauderdale  ...   \n",
       "4   Sean O'Donnell   Consumer  United States  Fort Lauderdale  ...   \n",
       "\n",
       "  Postal Code  Region       Product ID         Category Sub-Category  \\\n",
       "0       42420   South  FUR-BO-10001798        Furniture    Bookcases   \n",
       "1       42420   South  FUR-CH-10000454        Furniture       Chairs   \n",
       "2       90036    West  OFF-LA-10000240  Office Supplies       Labels   \n",
       "3       33311   South  FUR-TA-10000577        Furniture       Tables   \n",
       "4       33311   South  OFF-ST-10000760  Office Supplies      Storage   \n",
       "\n",
       "                                        Product Name     Sales  Quantity  \\\n",
       "0                  Bush Somerset Collection Bookcase  261.9600         2   \n",
       "1  Hon Deluxe Fabric Upholstered Stacking Chairs,...  731.9400         3   \n",
       "2  Self-Adhesive Address Labels for Typewriters b...   14.6200         2   \n",
       "3      Bretford CR4500 Series Slim Rectangular Table  957.5775         5   \n",
       "4                     Eldon Fold 'N Roll Cart System   22.3680         2   \n",
       "\n",
       "   Discount    Profit  \n",
       "0      0.00   41.9136  \n",
       "1      0.00  219.5820  \n",
       "2      0.00    6.8714  \n",
       "3      0.45 -383.0310  \n",
       "4      0.20    2.5164  \n",
       "\n",
       "[5 rows x 21 columns]"
      ]
     },
     "execution_count": 5,
     "metadata": {},
     "output_type": "execute_result"
    }
   ],
   "source": [
    "df.head()"
   ]
  },
  {
   "cell_type": "markdown",
   "id": "d69331b8",
   "metadata": {},
   "source": [
    "## Objective : Know wich product category gives the most profit from a statistical analysis\n",
    "\n",
    "I will work with the variables \"Category\" and \"Profit\" of the dataset.\n",
    "The first step is to show a summary of each one to see their characteristics."
   ]
  },
  {
   "cell_type": "code",
   "execution_count": 6,
   "id": "55e385f3",
   "metadata": {},
   "outputs": [
    {
     "data": {
      "text/plain": [
       "array(['Furniture', 'Office Supplies', 'Technology'], dtype=object)"
      ]
     },
     "execution_count": 6,
     "metadata": {},
     "output_type": "execute_result"
    }
   ],
   "source": [
    "df['Category'].unique()"
   ]
  },
  {
   "cell_type": "markdown",
   "id": "95b665e9",
   "metadata": {},
   "source": [
    "The variable \"Category\" has 3 product categories : Furniture, Office Supplies y Technology"
   ]
  },
  {
   "cell_type": "code",
   "execution_count": 7,
   "id": "a4ee7bef",
   "metadata": {},
   "outputs": [
    {
     "data": {
      "text/plain": [
       "count    9994.000000\n",
       "mean       28.656896\n",
       "std       234.260108\n",
       "min     -6599.978000\n",
       "25%         1.728750\n",
       "50%         8.666500\n",
       "75%        29.364000\n",
       "max      8399.976000\n",
       "Name: Profit, dtype: float64"
      ]
     },
     "execution_count": 7,
     "metadata": {},
     "output_type": "execute_result"
    }
   ],
   "source": [
    "df[\"Profit\"].describe()"
   ]
  },
  {
   "cell_type": "markdown",
   "id": "79465cb1",
   "metadata": {},
   "source": [
    "The variable \"Profit\" has negative values (this is interesting in case you have to transform the variable and choose between the Box-Cox and Yeo & Johnson methods)"
   ]
  },
  {
   "cell_type": "markdown",
   "id": "a86b5c0a",
   "metadata": {},
   "source": [
    "Here I'm grouping and summing profit by category to have a first view"
   ]
  },
  {
   "cell_type": "code",
   "execution_count": 8,
   "id": "a9cd1c5c",
   "metadata": {},
   "outputs": [
    {
     "data": {
      "text/plain": [
       "Category\n",
       "Technology         145454.9481\n",
       "Office Supplies    122490.8008\n",
       "Furniture           18451.2728\n",
       "Name: Profit, dtype: float64"
      ]
     },
     "execution_count": 8,
     "metadata": {},
     "output_type": "execute_result"
    }
   ],
   "source": [
    "df.groupby([\"Category\"])[\"Profit\"].sum().sort_values(ascending= False)"
   ]
  },
  {
   "cell_type": "markdown",
   "id": "89db45ca",
   "metadata": {},
   "source": [
    "We can see that Technology category has the most profit.\n",
    "Now, let's see if the statistical tests verify this statement"
   ]
  },
  {
   "cell_type": "markdown",
   "id": "fced445e",
   "metadata": {},
   "source": [
    "The ideal is to do an F test to compare the profit means of categories.  \n",
    "But for doing the test we have to confirm the assumptions that support it are met\n",
    "\n",
    "**Note** : alpha or level of significance will be 5%"
   ]
  },
  {
   "cell_type": "markdown",
   "id": "3469798a",
   "metadata": {},
   "source": [
    "## Assumptions : Independence, normality and homocedasticity"
   ]
  },
  {
   "cell_type": "markdown",
   "id": "2ccded04",
   "metadata": {},
   "source": [
    "### Independence\n",
    "The dataset comes from an aleatory sample and the variables in it don't depend on each other"
   ]
  },
  {
   "cell_type": "markdown",
   "id": "c284b01a",
   "metadata": {},
   "source": [
    "### Normality\n",
    "This assumption can be verified with the Shapiro Wilk test, but we can also do it with a BoxPlot"
   ]
  },
  {
   "cell_type": "code",
   "execution_count": 9,
   "id": "7cacedcf",
   "metadata": {},
   "outputs": [
    {
     "data": {
      "image/png": "[encoded data removed]",
      "text/plain": [
       "<Figure size 432x288 with 1 Axes>"
      ]
     },
     "metadata": {
      "needs_background": "light"
     },
     "output_type": "display_data"
    }
   ],
   "source": [
    "# I group the profit by category\n",
    "\n",
    "furniture = df.loc[df.Category == \"Furniture\"][\"Profit\"]\n",
    "office_supplies = df.loc[df.Category == \"Office Supplies\"][\"Profit\"]\n",
    "technology = df.loc[df.Category == \"Technology\"][\"Profit\"]\n",
    "\n",
    "plt.title(\"Boxplot\")\n",
    "plt.xlabel(\"Category\")\n",
    "plt.ylabel(\"Profit\")\n",
    "plt.yticks([-4000, -2000, 0, 2000, 4000, 6000, 8000])\n",
    "\n",
    "labels = [\"Furniture\", \"Office Supplies\", \"Technology\"]\n",
    "\n",
    "plt.boxplot([furniture, office_supplies, technology], labels = labels)\n",
    "plt.semilogy()\n",
    "plt.show()"
   ]
  },
  {
   "cell_type": "markdown",
   "id": "966bae8a",
   "metadata": {},
   "source": [
    "We know that there is no normality because there are many outliers"
   ]
  },
  {
   "cell_type": "markdown",
   "id": "49759c42",
   "metadata": {},
   "source": [
    "## Road to the transformation\n",
    "We can apply a transformation to the data to try to get normality.  \n",
    "But first let's see how each of the variables \"Category\" and \"Profit\" are distributed, and see if we consider a transformation"
   ]
  },
  {
   "cell_type": "markdown",
   "id": "ddabe1c9",
   "metadata": {},
   "source": [
    "Let's start with the variable \"Profit\""
   ]
  },
  {
   "cell_type": "code",
   "execution_count": 10,
   "id": "8d7a8851",
   "metadata": {},
   "outputs": [
    {
     "name": "stderr",
     "output_type": "stream",
     "text": [
      "C:\\Users\\Florencia\\anaconda3\\lib\\site-packages\\seaborn\\distributions.py:2619: FutureWarning: `distplot` is a deprecated function and will be removed in a future version. Please adapt your code to use either `displot` (a figure-level function with similar flexibility) or `kdeplot` (an axes-level function for kernel density plots).\n",
      "  warnings.warn(msg, FutureWarning)\n"
     ]
    },
    {
     "data": {
      "image/png": "[encoded data removed]",
      "text/plain": [
       "<Figure size 432x288 with 1 Axes>"
      ]
     },
     "metadata": {
      "needs_background": "light"
     },
     "output_type": "display_data"
    }
   ],
   "source": [
    "# Distribution plot\n",
    "\n",
    "profit = df[\"Profit\"]\n",
    "\n",
    "plt.title(\"Distribution of 'Profit'\")\n",
    "\n",
    "sns.distplot(profit, hist=False, kde=True)\n",
    "\n",
    "plt.show()"
   ]
  },
  {
   "cell_type": "code",
   "execution_count": 11,
   "id": "3f09686a",
   "metadata": {},
   "outputs": [
    {
     "data": {
      "image/png": "[encoded data removed]",
      "text/plain": [
       "<Figure size 432x288 with 1 Axes>"
      ]
     },
     "metadata": {
      "needs_background": "light"
     },
     "output_type": "display_data"
    }
   ],
   "source": [
    "# Boxplot\n",
    "\n",
    "labels = [\"Profit\"]\n",
    "\n",
    "plt.boxplot(profit, labels = labels)\n",
    "\n",
    "plt.semilogy()\n",
    "\n",
    "plt.show()"
   ]
  },
  {
   "cell_type": "markdown",
   "id": "412434db",
   "metadata": {},
   "source": [
    "The distribution of \"Profit\" is not a normal distribution"
   ]
  },
  {
   "cell_type": "markdown",
   "id": "06f58163",
   "metadata": {},
   "source": [
    "\"Category\" variable"
   ]
  },
  {
   "cell_type": "code",
   "execution_count": 12,
   "id": "786d2270",
   "metadata": {},
   "outputs": [
    {
     "name": "stderr",
     "output_type": "stream",
     "text": [
      "C:\\Users\\Florencia\\anaconda3\\lib\\site-packages\\seaborn\\distributions.py:2619: FutureWarning: `distplot` is a deprecated function and will be removed in a future version. Please adapt your code to use either `displot` (a figure-level function with similar flexibility) or `kdeplot` (an axes-level function for kernel density plots).\n",
      "  warnings.warn(msg, FutureWarning)\n"
     ]
    },
    {
     "data": {
      "image/png": "[encoded data removed]",
      "text/plain": [
       "<Figure size 432x288 with 1 Axes>"
      ]
     },
     "metadata": {
      "needs_background": "light"
     },
     "output_type": "display_data"
    }
   ],
   "source": [
    "# Distribution plot\n",
    "\n",
    "# Convert the \"Category\" variable to integer\n",
    " \n",
    "df[\"Category\"] = df[\"Category\"].map({\"Furniture\" : 1, \"Office Supplies\" : 2, \"Technology\" : 3})\n",
    "\n",
    "category = df[\"Category\"]\n",
    "\n",
    "plt.title(\"Distribution of 'Category'\")\n",
    "\n",
    "sns.distplot(category, hist=False, kde=True)\n",
    "\n",
    "plt.show()"
   ]
  },
  {
   "cell_type": "markdown",
   "id": "fb3ce2aa",
   "metadata": {},
   "source": [
    "The distribution of \"Category\" is normal"
   ]
  },
  {
   "cell_type": "markdown",
   "id": "8b6d1384",
   "metadata": {},
   "source": [
    "## Applying Yeo and Johnson transformation on \"Profit\"\n",
    "\n",
    "We can transform the variable \"Profit\" using the Yeo and Johnson method because this variable has negative values and we can't use Box-Cox.  \n",
    "\n",
    "Through the transformation of the data we hope to obtain normality, but it could not happen."
   ]
  },
  {
   "cell_type": "code",
   "execution_count": 13,
   "id": "69a99c96",
   "metadata": {},
   "outputs": [
    {
     "name": "stderr",
     "output_type": "stream",
     "text": [
      "C:\\Users\\Florencia\\anaconda3\\lib\\site-packages\\seaborn\\distributions.py:2619: FutureWarning: `distplot` is a deprecated function and will be removed in a future version. Please adapt your code to use either `displot` (a figure-level function with similar flexibility) or `kdeplot` (an axes-level function for kernel density plots).\n",
      "  warnings.warn(msg, FutureWarning)\n"
     ]
    },
    {
     "name": "stdout",
     "output_type": "stream",
     "text": [
      " Value of lambda used for transformation : 0.9881014981240227\n"
     ]
    },
    {
     "data": {
      "image/png": "[encoded data removed]",
      "text/plain": [
       "<Figure size 432x288 with 1 Axes>"
      ]
     },
     "metadata": {
      "needs_background": "light"
     },
     "output_type": "display_data"
    }
   ],
   "source": [
    "profit = df[\"Profit\"]\n",
    "\n",
    "profit_transform, best_lambda = stats.yeojohnson(profit)\n",
    "\n",
    "plt.title(\"New Distribution of 'Profit'\")\n",
    "\n",
    "sns.distplot(profit_transform, hist=False, kde=True) \n",
    "\n",
    "print(f\" Value of lambda used for transformation : {best_lambda}\")\n",
    "\n",
    "plt.show()"
   ]
  },
  {
   "cell_type": "markdown",
   "id": "e6491d1e",
   "metadata": {},
   "source": [
    "We can see that there is no difference in the transformed \"Profit\".\n",
    "So, we couldn't get normality "
   ]
  },
  {
   "cell_type": "markdown",
   "id": "001fec9d",
   "metadata": {},
   "source": [
    "### Homocedasticity\n",
    "\n",
    "We are going to use the Levene Test for the comparison of variances because we don't have normality\n",
    "\n",
    "**Null Hypotesis** = the variances of each category grouped by profit are equal\n",
    "\n",
    "**Alternative Hypotesis** = the variances of each category grouped by profit aren't equal"
   ]
  },
  {
   "cell_type": "code",
   "execution_count": 14,
   "id": "65e3c409",
   "metadata": {},
   "outputs": [
    {
     "data": {
      "text/plain": [
       "LeveneResult(statistic=82.53479590030642, pvalue=2.8085330840251473e-36)"
      ]
     },
     "execution_count": 14,
     "metadata": {},
     "output_type": "execute_result"
    }
   ],
   "source": [
    "df = pd.read_csv(r\"C:\\Users\\Florencia\\Desktop\\Practicas\\Sample - Superstore.csv\", encoding = 'Windows-1252' )\n",
    "\n",
    "profit_furniture = df.loc[df.Category == \"Furniture\"][\"Profit\"]\n",
    "profit_office = df.loc[df.Category == \"Office Supplies\"][\"Profit\"]\n",
    "profit_tecno = df.loc[df.Category == \"Technology\"][\"Profit\"]\n",
    "\n",
    "levene_test = stats.levene(profit_furniture, profit_office, profit_tecno, center = \"median\")\n",
    "levene_test"
   ]
  },
  {
   "cell_type": "markdown",
   "id": "e41debc3",
   "metadata": {},
   "source": [
    "With a significance level of 5% and a p-value of approximately 0%, I reject the null hypotesis. The variances aren't equal"
   ]
  },
  {
   "cell_type": "markdown",
   "id": "1c7d79c4",
   "metadata": {},
   "source": [
    "## Non parametric test : Kruskal Wallis\n",
    "\n",
    "We can't do the F test because normality and homocedasticity are not fulfilled, and we have to resort as a last option to the non parametrical test Kruskal Wallis, with the consequence that this is less powerful.\n",
    "\n",
    "**Null Hypotesis** = All the categoryes grouped by profit have the same mean"
   ]
  },
  {
   "cell_type": "code",
   "execution_count": 15,
   "id": "c0e8fd18",
   "metadata": {},
   "outputs": [
    {
     "data": {
      "text/plain": [
       "KruskalResult(statistic=3565.1756231198733, pvalue=0.0)"
      ]
     },
     "execution_count": 15,
     "metadata": {},
     "output_type": "execute_result"
    }
   ],
   "source": [
    "# Convert Category descriptions to IDs\n",
    "df[\"Category\"] = df[\"Category\"].map({\"Furniture\" : 1, \"Office Supplies\" : 2, \"Technology\" : 3})\n",
    "\n",
    "category = df[\"Category\"]\n",
    "profit = df[\"Profit\"]\n",
    "\n",
    "stats.kruskal(category, profit)"
   ]
  },
  {
   "cell_type": "markdown",
   "id": "ccc28cd6",
   "metadata": {},
   "source": [
    "With a p-value of 0% I reject the null hypotesis, this means that profit means by category are not the same.  \n",
    "This verifies our first assumption, that Technology category had the most profit."
   ]
  },
  {
   "cell_type": "markdown",
   "id": "47e7af27",
   "metadata": {},
   "source": [
    "## Conclusion\n",
    "\n",
    "We have corroborated through a summary of data and a statistical analysis on the variables of interest that the category of Technology products have the most profit.  \n",
    "We could answer others questions, like:\n",
    "\n",
    "- 'What is the Region with the most Sales?'\n",
    "- 'What is the Region that buys more products of Technology?'\n",
    "\n",
    "But I consider this enough for this exercise.  \n",
    "Any comments or suggestions are welcome."
   ]
  }
 ],
 "metadata": {
  "kernelspec": {
   "display_name": "Python 3 (ipykernel)",
   "language": "python",
   "name": "python3"
  },
  "language_info": {
   "codemirror_mode": {
    "name": "ipython",
    "version": 3
   },
   "file_extension": ".py",
   "mimetype": "text/x-python",
   "name": "python",
   "nbconvert_exporter": "python",
   "pygments_lexer": "ipython3",
   "version": "3.9.7"
  }
 },
 "nbformat": 4,
 "nbformat_minor": 5
}
